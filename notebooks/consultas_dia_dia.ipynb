{
 "cells": [
  {
   "cell_type": "markdown",
   "id": "6974b30f",
   "metadata": {},
   "source": [
    "## Conexao"
   ]
  },
  {
   "cell_type": "code",
   "execution_count": null,
   "id": "d5401042",
   "metadata": {},
   "outputs": [
    {
     "name": "stdout",
     "output_type": "stream",
     "text": [
      "Conexão estabelecida com sucesso!\n",
      "Você pode agora usar a variável `conn` para executar consultas.\n",
      "Conexão estabelecida com sucesso!\n"
     ]
    }
   ],
   "source": [
    "# Conexao db\n",
    "\n",
    "import pandas as pd\n",
    "import os\n",
    "import sys\n",
    "sys.path.append(os.path.abspath(\"..\"))\n",
    "\n",
    "from src.conexao_bd import get_db_connection\n",
    "\n",
    "conn = get_db_connection()\n"
   ]
  },
  {
   "cell_type": "markdown",
   "id": "f3874089",
   "metadata": {},
   "source": [
    "## Padrão replicação consulta "
   ]
  },
  {
   "cell_type": "code",
   "execution_count": null,
   "id": "e2eebd35",
   "metadata": {},
   "outputs": [],
   "source": [
    "from src.conexao_bd import execultar_sql\n",
    "\n",
    "# lista de produtos\n",
    "df_produtos = execultar_sql(\"\"\"\n",
    "                            \n",
    "    SELECT * FROM SUA_TABELA\n",
    "    \n",
    "    \"\"\")\n",
    "\n",
    "df_produtos.head()"
   ]
  }
 ],
 "metadata": {
  "kernelspec": {
   "display_name": ".venv",
   "language": "python",
   "name": "python3"
  },
  "language_info": {
   "codemirror_mode": {
    "name": "ipython",
    "version": 3
   },
   "file_extension": ".py",
   "mimetype": "text/x-python",
   "name": "python",
   "nbconvert_exporter": "python",
   "pygments_lexer": "ipython3",
   "version": "3.12.2"
  }
 },
 "nbformat": 4,
 "nbformat_minor": 5
}
